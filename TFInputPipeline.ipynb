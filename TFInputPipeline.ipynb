{
  "cells": [
    {
      "cell_type": "markdown",
      "metadata": {
        "id": "wgP1cO0bQHdD"
      },
      "source": [
        "This is the jupyter notebook containing the code related to the blog post \"Optimizing a TensorFlow Input Pipeline: Best Practices in 2022\" by Stefano Martire.\n",
        "\n",
        "https://medium.com/@virtualmartire/optimizing-a-tensorflow-input-pipeline-best-practices-in-2022-4ade92ef8736"
      ]
    },
    {
      "cell_type": "markdown",
      "metadata": {
        "id": "cMndI-eOXgST"
      },
      "source": [
        "# Tools"
      ]
    },
    {
      "cell_type": "code",
      "execution_count": null,
      "metadata": {
        "id": "_VHp0rSpRboL"
      },
      "outputs": [],
      "source": [
        "import time\n",
        "import tensorflow as tf\n",
        "import numpy as np\n",
        "\n",
        "#\n",
        "##\n",
        "###\n",
        "##\n",
        "#\n",
        "\n",
        "class ArtificialDataset(tf.data.Dataset):\n",
        "    def __new__(self, num_samples):\n",
        "        return tf.data.Dataset.from_generator(self.generator,\n",
        "                                              output_signature = tf.TensorSpec(shape=(), dtype = tf.int64),\n",
        "                                              args=[num_samples])\n",
        "    @staticmethod\n",
        "    def generator(num_samples):\n",
        "        # Opening the file\n",
        "        time.sleep(0.03)\n",
        "        for sample in range(num_samples):\n",
        "            # Reading data from the file\n",
        "            time.sleep(0.015)\n",
        "            yield sample\n",
        "\n",
        "def TrainOneTime(dataset, num_epochs=10):\n",
        "    # Given a dataset, it simulates a training on it for num_epochs epochs.\n",
        "    start_time = time.perf_counter()\n",
        "    for _ in range(num_epochs):\n",
        "        for sample in dataset:\n",
        "            # Performing a (CONSTANT!) training step\n",
        "            time.sleep(0.01)\n",
        "    return time.perf_counter() - start_time\n",
        "\n",
        "def benchmark(datasource, num_experiments=10):\n",
        "    # Repeat num_experiments times the same ML experiment and compute some statistics.\n",
        "    # datasource = a function that returns an instance of the dataset that we want to benchmark\n",
        "    times = []\n",
        "    for _ in range(num_experiments):\n",
        "        experiment_time = TrainOneTime(datasource())\n",
        "        times.append(experiment_time)\n",
        "    print(\"Execution time (mean, std):\", np.mean(times), np.std(times))\n",
        "\n",
        "#\n",
        "##\n",
        "###\n",
        "##\n",
        "#\n",
        "\n",
        "def fast_TrainOneTime(dataset, num_epochs=10):\n",
        "    start_time = time.perf_counter()\n",
        "    for _ in range(num_epochs):\n",
        "        for sample in dataset:\n",
        "            pass\n",
        "    return time.perf_counter() - start_time\n",
        "\n",
        "def fast_benchmark(datasource, num_experiments=10):\n",
        "    times = []\n",
        "    for _ in range(num_experiments):\n",
        "        experiment_time = fast_TrainOneTime(datasource())\n",
        "        times.append(experiment_time)\n",
        "    print(\"Execution time (mean, std):\", np.mean(times), np.std(times))"
      ]
    },
    {
      "cell_type": "markdown",
      "metadata": {
        "id": "wCuxgbEkTQyZ"
      },
      "source": [
        "# Naive approach"
      ]
    },
    {
      "cell_type": "code",
      "execution_count": null,
      "metadata": {
        "colab": {
          "base_uri": "https://localhost:8080/"
        },
        "id": "5ajJ1nvsS6Vx",
        "outputId": "4b3104ce-8b76-4ecc-abfd-44a24af107dc"
      },
      "outputs": [
        {
          "name": "stdout",
          "output_type": "stream",
          "text": [
            "Execution time (mean, std): 20.352092805800005 1.3831828740299288\n"
          ]
        }
      ],
      "source": [
        "benchmark(\n",
        "    lambda: ArtificialDataset(60)\n",
        ")"
      ]
    },
    {
      "cell_type": "markdown",
      "metadata": {
        "id": "or2R_O-FTkwW"
      },
      "source": [
        "# Prefetch"
      ]
    },
    {
      "cell_type": "code",
      "execution_count": null,
      "metadata": {
        "colab": {
          "base_uri": "https://localhost:8080/"
        },
        "id": "IhbY1FbqSX9S",
        "outputId": "583df1f7-0f07-499e-ef92-1395134ef320"
      },
      "outputs": [
        {
          "name": "stdout",
          "output_type": "stream",
          "text": [
            "Execution time (mean, std): 11.453088595199997 0.33055232552504404\n"
          ]
        }
      ],
      "source": [
        "benchmark(\n",
        "    lambda: ArtificialDataset(60).prefetch(30)\n",
        ")"
      ]
    },
    {
      "cell_type": "code",
      "execution_count": null,
      "metadata": {
        "colab": {
          "base_uri": "https://localhost:8080/"
        },
        "id": "l0eQykmiToT-",
        "outputId": "aab76844-d6e9-419b-821e-211df307030c"
      },
      "outputs": [
        {
          "name": "stdout",
          "output_type": "stream",
          "text": [
            "Execution time (mean, std): 11.381429644100006 0.24948351336565694\n"
          ]
        }
      ],
      "source": [
        "benchmark(\n",
        "    lambda: ArtificialDataset(60).prefetch(tf.data.AUTOTUNE)\n",
        ")"
      ]
    },
    {
      "cell_type": "markdown",
      "metadata": {
        "id": "dxWJTb4qSa3O"
      },
      "source": [
        "# Shuffle"
      ]
    },
    {
      "cell_type": "code",
      "execution_count": null,
      "metadata": {
        "colab": {
          "base_uri": "https://localhost:8080/"
        },
        "id": "WC4QMdvRSIQp",
        "outputId": "db39c083-5372-4cce-88aa-742f5463ada8"
      },
      "outputs": [
        {
          "name": "stdout",
          "output_type": "stream",
          "text": [
            "Execution time (mean, std): 21.013408302 0.9630890709031646\n"
          ]
        }
      ],
      "source": [
        "benchmark(\n",
        "    lambda: ArtificialDataset(60).shuffle(buffer_size=20)\n",
        ")"
      ]
    },
    {
      "cell_type": "markdown",
      "metadata": {
        "id": "K2_BBbWkjxwT"
      },
      "source": [
        "## Prefetch and shuffle"
      ]
    },
    {
      "cell_type": "code",
      "execution_count": null,
      "metadata": {
        "colab": {
          "base_uri": "https://localhost:8080/"
        },
        "id": "vCYu7g0s_jmO",
        "outputId": "d608e779-f726-4a5a-a086-2ab5b622112b"
      },
      "outputs": [
        {
          "name": "stdout",
          "output_type": "stream",
          "text": [
            "Execution time (mean, std): 12.326305236699955 0.12620411556605377\n"
          ]
        }
      ],
      "source": [
        "benchmark(\n",
        "    lambda:\n",
        "    ArtificialDataset(60)\n",
        "    .shuffle(buffer_size=20)\n",
        "    .prefetch(tf.data.AUTOTUNE)\n",
        ")"
      ]
    },
    {
      "cell_type": "code",
      "execution_count": null,
      "metadata": {
        "colab": {
          "base_uri": "https://localhost:8080/"
        },
        "id": "gs_uRvt1B99o",
        "outputId": "c7d77c06-092f-4acd-94c4-8a86692d84c4"
      },
      "outputs": [
        {
          "name": "stdout",
          "output_type": "stream",
          "text": [
            "Execution time (mean, std): 12.392917123399911 0.1788876373334663\n"
          ]
        }
      ],
      "source": [
        "benchmark(\n",
        "    lambda:\n",
        "    ArtificialDataset(60)\n",
        "    .prefetch(tf.data.AUTOTUNE)\n",
        "    .shuffle(buffer_size=20)\n",
        ")"
      ]
    },
    {
      "cell_type": "markdown",
      "metadata": {
        "id": "19cisdCvQso0"
      },
      "source": [
        "# Sampling from more than one datasets"
      ]
    },
    {
      "cell_type": "markdown",
      "metadata": {
        "id": "a3kpGVi9qgeu"
      },
      "source": [
        "## Interleave"
      ]
    },
    {
      "cell_type": "code",
      "execution_count": null,
      "metadata": {
        "colab": {
          "base_uri": "https://localhost:8080/"
        },
        "id": "kXJZ2FjNrSW_",
        "outputId": "bc6f0bce-4334-4d1d-9f71-da938d32e60c"
      },
      "outputs": [
        {
          "name": "stdout",
          "output_type": "stream",
          "text": [
            "Execution time (mean, std): 20.842603973900076 1.8259570877550806\n"
          ]
        }
      ],
      "source": [
        "benchmark(\n",
        "    lambda: tf.data.Dataset.range(2)\n",
        "            .interleave(lambda _: ArtificialDataset(30), cycle_length=2)\n",
        ")"
      ]
    },
    {
      "cell_type": "code",
      "execution_count": null,
      "metadata": {
        "colab": {
          "base_uri": "https://localhost:8080/"
        },
        "id": "X6KYYluewGpQ",
        "outputId": "e2a52e80-738d-490e-a6b0-5f58aa31b488"
      },
      "outputs": [
        {
          "name": "stdout",
          "output_type": "stream",
          "text": [
            "Execution time (mean, std): 10.262414164099937 0.9066938742174154\n"
          ]
        }
      ],
      "source": [
        "benchmark(\n",
        "    lambda: tf.data.Dataset.range(2)\n",
        "            .interleave(lambda _: ArtificialDataset(30), cycle_length=2,\n",
        "                                  num_parallel_calls=tf.data.AUTOTUNE)\n",
        ")"
      ]
    },
    {
      "cell_type": "markdown",
      "metadata": {
        "id": "2l9CZecWYbvS"
      },
      "source": [
        "## Sample from datasets"
      ]
    },
    {
      "cell_type": "code",
      "execution_count": null,
      "metadata": {
        "colab": {
          "base_uri": "https://localhost:8080/"
        },
        "id": "35cLax2CZW0t",
        "outputId": "f97d704f-e34c-4369-849d-9d8a4f32f887"
      },
      "outputs": [
        {
          "name": "stdout",
          "output_type": "stream",
          "text": [
            "Execution time (mean, std): 20.453822995300108 1.1829536582771094\n"
          ]
        }
      ],
      "source": [
        "datasource = lambda: tf.data.Dataset.sample_from_datasets(\n",
        "                        [ArtificialDataset(30), ArtificialDataset(30)],\n",
        "                        weights=[0.4, 0.6]\n",
        "                      )\n",
        "\n",
        "benchmark(datasource)"
      ]
    },
    {
      "cell_type": "code",
      "execution_count": null,
      "metadata": {
        "colab": {
          "base_uri": "https://localhost:8080/"
        },
        "id": "aF6-c1URYflE",
        "outputId": "84d8f6f3-828c-4166-c02c-da5eccfee925"
      },
      "outputs": [
        {
          "name": "stdout",
          "output_type": "stream",
          "text": [
            "Execution time (mean, std): 11.693418666100115 0.2995515966723602\n"
          ]
        }
      ],
      "source": [
        "datasource = lambda: tf.data.Dataset.sample_from_datasets(\n",
        "                        [ArtificialDataset(30), ArtificialDataset(30)],\n",
        "                        weights=[0.4, 0.6]\n",
        "                      ).prefetch(tf.data.AUTOTUNE)\n",
        "\n",
        "benchmark(datasource)"
      ]
    },
    {
      "cell_type": "markdown",
      "metadata": {
        "id": "irAK0rakyDJK"
      },
      "source": [
        "# Map"
      ]
    },
    {
      "cell_type": "code",
      "execution_count": null,
      "metadata": {
        "id": "lOE1msJCyFQi"
      },
      "outputs": [],
      "source": [
        "def mapped_function(sample):\n",
        "    # Simulate some hard preprocessing\n",
        "    tf.py_function(lambda: time.sleep(0.03), [], ())\n",
        "    return sample"
      ]
    },
    {
      "cell_type": "code",
      "execution_count": null,
      "metadata": {
        "colab": {
          "base_uri": "https://localhost:8080/"
        },
        "id": "Vtde71cSyL2_",
        "outputId": "8f71f596-de59-41a4-8323-6576da00ea46"
      },
      "outputs": [
        {
          "name": "stdout",
          "output_type": "stream",
          "text": [
            "Execution time (mean, std): 42.89547191830006 2.56696075936222\n"
          ]
        }
      ],
      "source": [
        "benchmark(\n",
        "    lambda:\n",
        "    ArtificialDataset(60)\n",
        "    .map(mapped_function)\n",
        ")"
      ]
    },
    {
      "cell_type": "code",
      "execution_count": null,
      "metadata": {
        "colab": {
          "base_uri": "https://localhost:8080/"
        },
        "id": "5JF9iarCygNt",
        "outputId": "3fc06119-e525-4963-856e-7c189202ce14"
      },
      "outputs": [
        {
          "name": "stdout",
          "output_type": "stream",
          "text": [
            "Execution time (mean, std): 21.646979339800055 2.196655362368194\n"
          ]
        }
      ],
      "source": [
        "benchmark(\n",
        "    lambda:\n",
        "    ArtificialDataset(60)\n",
        "    .map(mapped_function, num_parallel_calls=tf.data.AUTOTUNE)\n",
        ")"
      ]
    },
    {
      "cell_type": "code",
      "execution_count": null,
      "metadata": {
        "colab": {
          "base_uri": "https://localhost:8080/"
        },
        "id": "hp5hcKyYAHmI",
        "outputId": "ad0eee2c-d14b-48d9-d649-2bba300310e0"
      },
      "outputs": [
        {
          "name": "stdout",
          "output_type": "stream",
          "text": [
            "Execution time (mean, std): 19.910414557800323 2.06004657360212\n"
          ]
        }
      ],
      "source": [
        "benchmark(\n",
        "    lambda:\n",
        "    ArtificialDataset(60)\n",
        "    .map(mapped_function, num_parallel_calls=tf.data.AUTOTUNE, deterministic=False)\n",
        ")"
      ]
    },
    {
      "cell_type": "markdown",
      "metadata": {
        "id": "njTWGwKhdM6F"
      },
      "source": [
        "## Vectorizing mapped function"
      ]
    },
    {
      "cell_type": "code",
      "execution_count": null,
      "metadata": {
        "id": "-t7onMpNxmiT"
      },
      "outputs": [],
      "source": [
        "def increment(x):\n",
        "  return x+1"
      ]
    },
    {
      "cell_type": "code",
      "execution_count": null,
      "metadata": {
        "colab": {
          "base_uri": "https://localhost:8080/"
        },
        "id": "nVi1FXRvesxx",
        "outputId": "f2dc62ef-5d31-4c2e-805f-9d90ee8739d4"
      },
      "outputs": [
        {
          "name": "stdout",
          "output_type": "stream",
          "text": [
            "Execution time (mean, std): 3.1346440906999873 0.6096452887122465\n"
          ]
        }
      ],
      "source": [
        "fast_benchmark(\n",
        "    lambda:\n",
        "    tf.data.Dataset.range(10000)\n",
        "    .map(increment)\n",
        "    .batch(32)\n",
        ")"
      ]
    },
    {
      "cell_type": "code",
      "execution_count": null,
      "metadata": {
        "colab": {
          "base_uri": "https://localhost:8080/"
        },
        "id": "UpiJeHnyew3R",
        "outputId": "5be07916-c3aa-484a-e100-4471d2cf38ef"
      },
      "outputs": [
        {
          "name": "stdout",
          "output_type": "stream",
          "text": [
            "Execution time (mean, std): 0.7280943599999887 0.057596312125470554\n"
          ]
        }
      ],
      "source": [
        "fast_benchmark(\n",
        "    lambda:\n",
        "    tf.data.Dataset.range(10000)\n",
        "    .batch(32)\n",
        "    # tf.Tensor.__add__ already handle batches\n",
        "    .map(increment)\n",
        ")"
      ]
    },
    {
      "cell_type": "markdown",
      "metadata": {
        "id": "sB167gwVah3D"
      },
      "source": [
        "# Cache"
      ]
    },
    {
      "cell_type": "code",
      "execution_count": null,
      "metadata": {
        "colab": {
          "base_uri": "https://localhost:8080/"
        },
        "id": "tw7yF8Jiaj5e",
        "outputId": "98234120-83d3-41dc-9509-97eb76aa85b8"
      },
      "outputs": [
        {
          "name": "stdout",
          "output_type": "stream",
          "text": [
            "Execution time (mean, std): 13.092854013700002 0.9728409355802924\n"
          ]
        }
      ],
      "source": [
        "benchmark(\n",
        "    lambda:\n",
        "    ArtificialDataset(60)\n",
        "    .map(mapped_function)\n",
        "    .cache()\n",
        ")"
      ]
    },
    {
      "cell_type": "code",
      "execution_count": null,
      "metadata": {
        "colab": {
          "base_uri": "https://localhost:8080/"
        },
        "id": "Y4Wm6t2yFjTp",
        "outputId": "7ef70f93-52c5-4c91-d169-a3db0175d8f2"
      },
      "outputs": [
        {
          "name": "stdout",
          "output_type": "stream",
          "text": [
            "Execution time (mean, std): 11.065014999600317 1.2006043972694804\n"
          ]
        }
      ],
      "source": [
        "benchmark(\n",
        "    lambda:\n",
        "    ArtificialDataset(60)\n",
        "    .cache()\n",
        ")"
      ]
    },
    {
      "cell_type": "markdown",
      "metadata": {
        "id": "cHalujkIvGuH"
      },
      "source": [
        "# Parallel batch"
      ]
    },
    {
      "cell_type": "code",
      "execution_count": null,
      "metadata": {
        "colab": {
          "base_uri": "https://localhost:8080/"
        },
        "id": "Sct1o7mIvJ3Q",
        "outputId": "fb540feb-e2f1-466c-e421-367145d7c3d9"
      },
      "outputs": [
        {
          "name": "stdout",
          "output_type": "stream",
          "text": [
            "Execution time (mean, std): 11.719768421999834 0.33159636527296316\n"
          ]
        }
      ],
      "source": [
        "benchmark(\n",
        "    lambda:\n",
        "    ArtificialDataset(60)\n",
        "    .batch(6)\n",
        ")"
      ]
    },
    {
      "cell_type": "code",
      "execution_count": null,
      "metadata": {
        "colab": {
          "base_uri": "https://localhost:8080/"
        },
        "id": "mOjUwYkCvV_O",
        "outputId": "141da57d-def3-4cec-8fcf-67108463901f"
      },
      "outputs": [
        {
          "name": "stdout",
          "output_type": "stream",
          "text": [
            "Execution time (mean, std): 10.106076772100005 0.1897054209484061\n"
          ]
        }
      ],
      "source": [
        "benchmark(\n",
        "    lambda:\n",
        "    ArtificialDataset(60)\n",
        "    .batch(6, num_parallel_calls=tf.data.AUTOTUNE)\n",
        ")"
      ]
    },
    {
      "cell_type": "code",
      "execution_count": null,
      "metadata": {
        "colab": {
          "base_uri": "https://localhost:8080/"
        },
        "id": "XPHrgYnRLkl9",
        "outputId": "fee07cdc-886d-4f4d-b96c-fe0eceeb66ef"
      },
      "outputs": [
        {
          "name": "stdout",
          "output_type": "stream",
          "text": [
            "Execution time (mean, std): 10.090009428100052 0.1256646476816818\n"
          ]
        }
      ],
      "source": [
        "benchmark(\n",
        "    lambda:\n",
        "    ArtificialDataset(60)\n",
        "    .batch(6)\n",
        "    .prefetch(tf.data.AUTOTUNE)\n",
        ")"
      ]
    },
    {
      "cell_type": "code",
      "execution_count": null,
      "metadata": {
        "colab": {
          "base_uri": "https://localhost:8080/"
        },
        "id": "7Klhvz75YwA2",
        "outputId": "2d13c200-4845-492c-d03f-6461800614d0"
      },
      "outputs": [
        {
          "name": "stdout",
          "output_type": "stream",
          "text": [
            "Execution time (mean, std): 10.543556925000019 0.3141512506595382\n"
          ]
        }
      ],
      "source": [
        "benchmark(\n",
        "    lambda:\n",
        "    ArtificialDataset(60)\n",
        "    .batch(6, num_parallel_calls=tf.data.AUTOTUNE)\n",
        "    .prefetch(tf.data.AUTOTUNE)\n",
        ")"
      ]
    }
  ],
  "metadata": {
    "colab": {
      "collapsed_sections": [
        "wCuxgbEkTQyZ",
        "or2R_O-FTkwW",
        "dxWJTb4qSa3O",
        "19cisdCvQso0"
      ],
      "name": "TFInputPipeline.ipynb",
      "provenance": []
    },
    "kernelspec": {
      "display_name": "Python 3",
      "name": "python3"
    },
    "language_info": {
      "name": "python"
    }
  },
  "nbformat": 4,
  "nbformat_minor": 0
}
